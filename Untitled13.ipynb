{
  "nbformat": 4,
  "nbformat_minor": 0,
  "metadata": {
    "colab": {
      "provenance": [],
      "gpuType": "T4"
    },
    "kernelspec": {
      "name": "python3",
      "display_name": "Python 3"
    },
    "language_info": {
      "name": "python"
    },
    "accelerator": "GPU"
  },
  "cells": [
    {
      "cell_type": "code",
      "execution_count": 1,
      "metadata": {
        "id": "IB-ZEe76sAgY",
        "colab": {
          "base_uri": "https://localhost:8080/"
        },
        "outputId": "3a60ddfe-38d6-4b66-9169-247f75962b92"
      },
      "outputs": [
        {
          "output_type": "stream",
          "name": "stdout",
          "text": [
            "Ciao\n"
          ]
        }
      ],
      "source": [
        "print (\"Ciao\")"
      ]
    },
    {
      "cell_type": "code",
      "source": [
        "print (\"Ciao Haydar\")"
      ],
      "metadata": {
        "colab": {
          "base_uri": "https://localhost:8080/"
        },
        "id": "YiIw-Kl2vZTh",
        "outputId": "ce637708-d44b-4b27-d123-c5c41223e26b"
      },
      "execution_count": 1,
      "outputs": [
        {
          "output_type": "stream",
          "name": "stdout",
          "text": [
            "Ciao Haydar\n"
          ]
        }
      ]
    },
    {
      "cell_type": "code",
      "source": [],
      "metadata": {
        "id": "aXi_lRGBvg-Z"
      },
      "execution_count": null,
      "outputs": []
    },
    {
      "cell_type": "markdown",
      "source": [
        "Hello word\n"
      ],
      "metadata": {
        "id": "felLBVDpvcFr"
      }
    }
  ]
}