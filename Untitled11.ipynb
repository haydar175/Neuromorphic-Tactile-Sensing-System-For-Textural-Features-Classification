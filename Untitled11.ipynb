{
  "nbformat": 4,
  "nbformat_minor": 0,
  "metadata": {
    "colab": {
      "provenance": []
    },
    "kernelspec": {
      "name": "python3",
      "display_name": "Python 3"
    },
    "language_info": {
      "name": "python"
    }
  },
  "cells": [
    {
      "cell_type": "code",
      "execution_count": null,
      "metadata": {
        "id": "IZS5rcrso-3J"
      },
      "outputs": [],
      "source": [
        "Dio di dio"
      ]
    },
    {
      "cell_type": "markdown",
      "source": [
        "ciao"
      ],
      "metadata": {
        "id": "9F1cdaERnyz7"
      }
    }
  ]
}